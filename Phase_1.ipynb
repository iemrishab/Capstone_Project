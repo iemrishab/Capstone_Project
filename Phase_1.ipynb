{
 "cells": [
  {
   "cell_type": "markdown",
   "id": "90f6d2a3",
   "metadata": {},
   "source": [
    "# Capstone Project\n"
   ]
  },
  {
   "cell_type": "markdown",
   "id": "20efe28d",
   "metadata": {},
   "source": [
    "# Web Scraping"
   ]
  },
  {
   "cell_type": "code",
   "execution_count": 174,
   "id": "eabfeae8",
   "metadata": {},
   "outputs": [],
   "source": [
    "#Importing necessary libraries"
   ]
  },
  {
   "cell_type": "code",
   "execution_count": 199,
   "id": "333b7c66",
   "metadata": {},
   "outputs": [
    {
     "name": "stdout",
     "output_type": "stream",
     "text": [
      "Requirement already satisfied: Selenium in c:\\users\\user\\anaconda3\\lib\\site-packages (4.15.2)\n",
      "Requirement already satisfied: urllib3[socks]<3,>=1.26 in c:\\users\\user\\anaconda3\\lib\\site-packages (from Selenium) (1.26.16)\n",
      "Requirement already satisfied: trio~=0.17 in c:\\users\\user\\anaconda3\\lib\\site-packages (from Selenium) (0.23.1)\n",
      "Requirement already satisfied: trio-websocket~=0.9 in c:\\users\\user\\anaconda3\\lib\\site-packages (from Selenium) (0.11.1)\n",
      "Requirement already satisfied: certifi>=2021.10.8 in c:\\users\\user\\anaconda3\\lib\\site-packages (from Selenium) (2023.11.17)\n",
      "Requirement already satisfied: attrs>=20.1.0 in c:\\users\\user\\anaconda3\\lib\\site-packages (from trio~=0.17->Selenium) (22.1.0)\n",
      "Requirement already satisfied: sortedcontainers in c:\\users\\user\\anaconda3\\lib\\site-packages (from trio~=0.17->Selenium) (2.4.0)\n",
      "Requirement already satisfied: idna in c:\\users\\user\\anaconda3\\lib\\site-packages (from trio~=0.17->Selenium) (3.4)\n",
      "Requirement already satisfied: outcome in c:\\users\\user\\anaconda3\\lib\\site-packages (from trio~=0.17->Selenium) (1.3.0.post0)\n",
      "Requirement already satisfied: sniffio>=1.3.0 in c:\\users\\user\\anaconda3\\lib\\site-packages (from trio~=0.17->Selenium) (1.3.0)\n",
      "Requirement already satisfied: cffi>=1.14 in c:\\users\\user\\anaconda3\\lib\\site-packages (from trio~=0.17->Selenium) (1.15.1)\n",
      "Requirement already satisfied: wsproto>=0.14 in c:\\users\\user\\anaconda3\\lib\\site-packages (from trio-websocket~=0.9->Selenium) (1.2.0)\n",
      "Requirement already satisfied: PySocks!=1.5.7,<2.0,>=1.5.6 in c:\\users\\user\\anaconda3\\lib\\site-packages (from urllib3[socks]<3,>=1.26->Selenium) (1.7.1)\n",
      "Requirement already satisfied: pycparser in c:\\users\\user\\anaconda3\\lib\\site-packages (from cffi>=1.14->trio~=0.17->Selenium) (2.21)\n",
      "Requirement already satisfied: h11<1,>=0.9.0 in c:\\users\\user\\anaconda3\\lib\\site-packages (from wsproto>=0.14->trio-websocket~=0.9->Selenium) (0.14.0)\n"
     ]
    }
   ],
   "source": [
    "!pip install Selenium"
   ]
  },
  {
   "cell_type": "code",
   "execution_count": 200,
   "id": "c84446a0",
   "metadata": {},
   "outputs": [],
   "source": [
    "import selenium\n",
    "import pandas as pd\n",
    "from selenium import webdriver\n",
    "import warnings\n",
    "warnings.filterwarnings('ignore')\n",
    "from selenium.webdriver.common.by import By\n",
    "import time\n"
   ]
  },
  {
   "cell_type": "code",
   "execution_count": 201,
   "id": "fca249f5",
   "metadata": {},
   "outputs": [],
   "source": [
    "driver=webdriver.Chrome()"
   ]
  },
  {
   "cell_type": "code",
   "execution_count": 202,
   "id": "f7693a97",
   "metadata": {},
   "outputs": [],
   "source": [
    "driver.get('https://www.flipkart.com/')"
   ]
  },
  {
   "cell_type": "code",
   "execution_count": 179,
   "id": "87929a6e",
   "metadata": {},
   "outputs": [],
   "source": [
    "type_=driver.find_element(By.XPATH,\"/html/body/div[1]/div/div[1]/div/div/div/div/div[1]/div/div[1]/div/div[1]/div[1]/header/div[1]/div[2]/form/div/div/input\")\n",
    "type_.send_keys('Mens clothes')"
   ]
  },
  {
   "cell_type": "code",
   "execution_count": 180,
   "id": "2f7b8824",
   "metadata": {},
   "outputs": [],
   "source": [
    "search=driver.find_element(By.XPATH,\"/html/body/div[1]/div/div[1]/div/div/div/div/div[1]/div/div[1]/div/div[1]/div[1]/header/div[1]/div[2]/form/div/button\")\n",
    "search.click()"
   ]
  },
  {
   "cell_type": "code",
   "execution_count": 181,
   "id": "6f1992fd",
   "metadata": {},
   "outputs": [],
   "source": [
    "\n",
    "Sno=list(range(0,4000,1))\n",
    "\n",
    "Brand_name=[]\n",
    "Category=[]\n",
    "Product_type=[]\n",
    "Product_name=[]\n",
    "Product_code=[]\n",
    "Price=[]"
   ]
  },
  {
   "cell_type": "code",
   "execution_count": 182,
   "id": "353f5e72",
   "metadata": {},
   "outputs": [],
   "source": [
    "for page in range(0,102):\n",
    "    brand=driver.find_elements(By.XPATH,'//div[@class=\"_2WkVRV\"]')\n",
    "    for i in brand:\n",
    "        Brand_name.append(i.text)\n",
    "next_button=driver.find_element(By.XPATH,\"/html/body/div/div/div[3]/div[1]/div[2]/div[12]/div/div/nav/a[11]\")\n",
    "next_button.click()"
   ]
  },
  {
   "cell_type": "code",
   "execution_count": 216,
   "id": "c92d2c86",
   "metadata": {},
   "outputs": [],
   "source": [
    "from selenium.common.exceptions import NoSuchElementException"
   ]
  },
  {
   "cell_type": "code",
   "execution_count": 184,
   "id": "b25728fa",
   "metadata": {},
   "outputs": [],
   "source": [
    "for pge in range(0,110):\n",
    "    category=driver.find_elements(By.XPATH,'//a[@class=\"IRpwTa\"]')\n",
    "    for cate in category:\n",
    "        Category.append(cate.text)\n",
    "next_=driver.find_element(By.XPATH,\"/html/body/div/div/div[3]/div[1]/div[2]/div[12]/div/div/nav/a[11]\")\n",
    "next_.click()\n",
    "        \n",
    "            "
   ]
  },
  {
   "cell_type": "code",
   "execution_count": 185,
   "id": "83e4b33d",
   "metadata": {},
   "outputs": [],
   "source": [
    "for pagge in range(0,110):\n",
    "    product_type=driver.find_elements(By.XPATH,'//a[@class=\"IRpwTa\"]')\n",
    "    for prod in product_type:\n",
    "        Product_type.append(prod.text)\n",
    "next_=driver.find_element(By.XPATH,\"/html/body/div/div/div[3]/div[1]/div[2]/div[12]/div/div/nav/a[11]\")\n",
    "next_.click()"
   ]
  },
  {
   "cell_type": "code",
   "execution_count": 187,
   "id": "c1fd2da9",
   "metadata": {},
   "outputs": [],
   "source": [
    "for pagee in range(0,110):\n",
    "    product_name=driver.find_elements(By.XPATH,'//a[@class=\"IRpwTa\"]')\n",
    "    for prodd in product_name:\n",
    "        Product_name.append(prodd.text)\n",
    "next_=driver.find_element(By.XPATH,\"/html/body/div/div/div[3]/div[1]/div[2]/div[12]/div/div/nav/a[11]\")\n",
    "next_.click()"
   ]
  },
  {
   "cell_type": "code",
   "execution_count": 188,
   "id": "fa80af21",
   "metadata": {},
   "outputs": [],
   "source": [
    "for paage in range(0,102):\n",
    "    price=driver.find_elements(By.XPATH,'//div[@class=\"_30jeq3\"]')\n",
    "    for prc in price:\n",
    "        Price.append(prc.text)\n",
    "next_b=driver.find_element(By.XPATH,\"/html/body/div/div/div[3]/div[1]/div[2]/div[12]/div/div/nav/a[11]\") \n",
    "next_b.click()\n",
    "        \n",
    "                "
   ]
  },
  {
   "cell_type": "code",
   "execution_count": 189,
   "id": "531e4f99",
   "metadata": {},
   "outputs": [
    {
     "name": "stdout",
     "output_type": "stream",
     "text": [
      "4080 4080 4070 4070 7770\n"
     ]
    }
   ],
   "source": [
    "print(len(Brand_name),len(Price),len(Category),len(Product_type),len(Product_name))"
   ]
  },
  {
   "cell_type": "code",
   "execution_count": 190,
   "id": "f77b27eb",
   "metadata": {},
   "outputs": [
    {
     "data": {
      "text/plain": [
       "4000"
      ]
     },
     "execution_count": 190,
     "metadata": {},
     "output_type": "execute_result"
    }
   ],
   "source": [
    "len(Sno)"
   ]
  },
  {
   "cell_type": "code",
   "execution_count": 60,
   "id": "73870491",
   "metadata": {},
   "outputs": [],
   "source": [
    "import pandas as pdroduct_name':Product_name[0:1800],'Price':Price[0:1800]"
   ]
  },
  {
   "cell_type": "code",
   "execution_count": 192,
   "id": "65a062a0",
   "metadata": {},
   "outputs": [
    {
     "data": {
      "text/html": [
       "<div>\n",
       "<style scoped>\n",
       "    .dataframe tbody tr th:only-of-type {\n",
       "        vertical-align: middle;\n",
       "    }\n",
       "\n",
       "    .dataframe tbody tr th {\n",
       "        vertical-align: top;\n",
       "    }\n",
       "\n",
       "    .dataframe thead th {\n",
       "        text-align: right;\n",
       "    }\n",
       "</style>\n",
       "<table border=\"1\" class=\"dataframe\">\n",
       "  <thead>\n",
       "    <tr style=\"text-align: right;\">\n",
       "      <th></th>\n",
       "      <th>sno</th>\n",
       "      <th>Brand_name</th>\n",
       "      <th>Category</th>\n",
       "      <th>Product_type</th>\n",
       "      <th>Product_name</th>\n",
       "      <th>Price</th>\n",
       "    </tr>\n",
       "  </thead>\n",
       "  <tbody>\n",
       "    <tr>\n",
       "      <th>0</th>\n",
       "      <td>0</td>\n",
       "      <td>Chanda Khuba</td>\n",
       "      <td>Men Full Sleeve Solid Hooded Sweatshirt</td>\n",
       "      <td>Men Full Sleeve Solid Hooded Sweatshirt</td>\n",
       "      <td>Men Full Sleeve Solid Hooded Sweatshirt</td>\n",
       "      <td>₹1,490</td>\n",
       "    </tr>\n",
       "    <tr>\n",
       "      <th>1</th>\n",
       "      <td>1</td>\n",
       "      <td>Chanda Khuba</td>\n",
       "      <td>Men Full Sleeve Solid Hooded Sweatshirt</td>\n",
       "      <td>Men Full Sleeve Solid Hooded Sweatshirt</td>\n",
       "      <td>Men Full Sleeve Solid Hooded Sweatshirt</td>\n",
       "      <td>₹1,490</td>\n",
       "    </tr>\n",
       "    <tr>\n",
       "      <th>2</th>\n",
       "      <td>2</td>\n",
       "      <td>Swear Clothes</td>\n",
       "      <td>Men Regular Fit Printed Spread Collar Casual S...</td>\n",
       "      <td>Men Regular Fit Printed Spread Collar Casual S...</td>\n",
       "      <td>Men Regular Fit Printed Spread Collar Casual S...</td>\n",
       "      <td>₹447</td>\n",
       "    </tr>\n",
       "    <tr>\n",
       "      <th>3</th>\n",
       "      <td>3</td>\n",
       "      <td>VALKO FASHION</td>\n",
       "      <td>Unstitched Polycotton Shirt Fabric Printed</td>\n",
       "      <td>Unstitched Polycotton Shirt Fabric Printed</td>\n",
       "      <td>Unstitched Polycotton Shirt Fabric Printed</td>\n",
       "      <td>₹299</td>\n",
       "    </tr>\n",
       "    <tr>\n",
       "      <th>4</th>\n",
       "      <td>4</td>\n",
       "      <td>PROTOCOL</td>\n",
       "      <td>Men Full Sleeve Solid Hooded Sweatshirt</td>\n",
       "      <td>Men Full Sleeve Solid Hooded Sweatshirt</td>\n",
       "      <td>Men Full Sleeve Solid Hooded Sweatshirt</td>\n",
       "      <td>₹299</td>\n",
       "    </tr>\n",
       "    <tr>\n",
       "      <th>...</th>\n",
       "      <td>...</td>\n",
       "      <td>...</td>\n",
       "      <td>...</td>\n",
       "      <td>...</td>\n",
       "      <td>...</td>\n",
       "      <td>...</td>\n",
       "    </tr>\n",
       "    <tr>\n",
       "      <th>3995</th>\n",
       "      <td>3995</td>\n",
       "      <td>Indi Hemp</td>\n",
       "      <td>Men Slim Fit Solid Cut Away Collar Casual Shirt</td>\n",
       "      <td>Men Slim Fit Solid Cut Away Collar Casual Shirt</td>\n",
       "      <td>Men Slim Fit Solid Cut Away Collar Casual Shirt</td>\n",
       "      <td>₹499</td>\n",
       "    </tr>\n",
       "    <tr>\n",
       "      <th>3996</th>\n",
       "      <td>3996</td>\n",
       "      <td>Indi Hemp</td>\n",
       "      <td>Men Full Sleeve Solid Hooded Sweatshirt</td>\n",
       "      <td>Men Full Sleeve Solid Hooded Sweatshirt</td>\n",
       "      <td>Men Full Sleeve Solid Hooded Sweatshirt</td>\n",
       "      <td>₹994</td>\n",
       "    </tr>\n",
       "    <tr>\n",
       "      <th>3997</th>\n",
       "      <td>3997</td>\n",
       "      <td>Indi Hemp</td>\n",
       "      <td>Men Full Sleeve Solid Hooded Sweatshirt</td>\n",
       "      <td>Men Full Sleeve Solid Hooded Sweatshirt</td>\n",
       "      <td>Men Full Sleeve Solid Hooded Sweatshirt</td>\n",
       "      <td>₹499</td>\n",
       "    </tr>\n",
       "    <tr>\n",
       "      <th>3998</th>\n",
       "      <td>3998</td>\n",
       "      <td>Indi Hemp</td>\n",
       "      <td>Men Regular Fit Printed Spread Collar Casual S...</td>\n",
       "      <td>Men Regular Fit Printed Spread Collar Casual S...</td>\n",
       "      <td>Men Regular Fit Printed Spread Collar Casual S...</td>\n",
       "      <td>₹499</td>\n",
       "    </tr>\n",
       "    <tr>\n",
       "      <th>3999</th>\n",
       "      <td>3999</td>\n",
       "      <td>Indi Hemp</td>\n",
       "      <td>Unstitched Polycotton Shirt Fabric Printed</td>\n",
       "      <td>Unstitched Polycotton Shirt Fabric Printed</td>\n",
       "      <td>Unstitched Polycotton Shirt Fabric Printed</td>\n",
       "      <td>₹499</td>\n",
       "    </tr>\n",
       "  </tbody>\n",
       "</table>\n",
       "<p>4000 rows × 6 columns</p>\n",
       "</div>"
      ],
      "text/plain": [
       "       sno     Brand_name                                           Category  \\\n",
       "0        0   Chanda Khuba            Men Full Sleeve Solid Hooded Sweatshirt   \n",
       "1        1   Chanda Khuba            Men Full Sleeve Solid Hooded Sweatshirt   \n",
       "2        2  Swear Clothes  Men Regular Fit Printed Spread Collar Casual S...   \n",
       "3        3  VALKO FASHION         Unstitched Polycotton Shirt Fabric Printed   \n",
       "4        4       PROTOCOL            Men Full Sleeve Solid Hooded Sweatshirt   \n",
       "...    ...            ...                                                ...   \n",
       "3995  3995      Indi Hemp    Men Slim Fit Solid Cut Away Collar Casual Shirt   \n",
       "3996  3996      Indi Hemp            Men Full Sleeve Solid Hooded Sweatshirt   \n",
       "3997  3997      Indi Hemp            Men Full Sleeve Solid Hooded Sweatshirt   \n",
       "3998  3998      Indi Hemp  Men Regular Fit Printed Spread Collar Casual S...   \n",
       "3999  3999      Indi Hemp         Unstitched Polycotton Shirt Fabric Printed   \n",
       "\n",
       "                                           Product_type  \\\n",
       "0               Men Full Sleeve Solid Hooded Sweatshirt   \n",
       "1               Men Full Sleeve Solid Hooded Sweatshirt   \n",
       "2     Men Regular Fit Printed Spread Collar Casual S...   \n",
       "3            Unstitched Polycotton Shirt Fabric Printed   \n",
       "4               Men Full Sleeve Solid Hooded Sweatshirt   \n",
       "...                                                 ...   \n",
       "3995    Men Slim Fit Solid Cut Away Collar Casual Shirt   \n",
       "3996            Men Full Sleeve Solid Hooded Sweatshirt   \n",
       "3997            Men Full Sleeve Solid Hooded Sweatshirt   \n",
       "3998  Men Regular Fit Printed Spread Collar Casual S...   \n",
       "3999         Unstitched Polycotton Shirt Fabric Printed   \n",
       "\n",
       "                                           Product_name   Price  \n",
       "0               Men Full Sleeve Solid Hooded Sweatshirt  ₹1,490  \n",
       "1               Men Full Sleeve Solid Hooded Sweatshirt  ₹1,490  \n",
       "2     Men Regular Fit Printed Spread Collar Casual S...    ₹447  \n",
       "3            Unstitched Polycotton Shirt Fabric Printed    ₹299  \n",
       "4               Men Full Sleeve Solid Hooded Sweatshirt    ₹299  \n",
       "...                                                 ...     ...  \n",
       "3995    Men Slim Fit Solid Cut Away Collar Casual Shirt    ₹499  \n",
       "3996            Men Full Sleeve Solid Hooded Sweatshirt    ₹994  \n",
       "3997            Men Full Sleeve Solid Hooded Sweatshirt    ₹499  \n",
       "3998  Men Regular Fit Printed Spread Collar Casual S...    ₹499  \n",
       "3999         Unstitched Polycotton Shirt Fabric Printed    ₹499  \n",
       "\n",
       "[4000 rows x 6 columns]"
      ]
     },
     "execution_count": 192,
     "metadata": {},
     "output_type": "execute_result"
    }
   ],
   "source": [
    "data1=pd.DataFrame({'sno':Sno[0:4000],'Brand_name':Brand_name[0:4000],'Category':Category[0:4000],'Product_type':Product_type[0:4000],'Product_name':Product_name[0:4000],'Price':Price[0:4000]})\n",
    "data1"
   ]
  },
  {
   "cell_type": "code",
   "execution_count": 193,
   "id": "65b4abcf",
   "metadata": {},
   "outputs": [],
   "source": [
    "data1['Product_code']=np.nan"
   ]
  },
  {
   "cell_type": "code",
   "execution_count": 194,
   "id": "53e193bd",
   "metadata": {},
   "outputs": [
    {
     "data": {
      "text/html": [
       "<div>\n",
       "<style scoped>\n",
       "    .dataframe tbody tr th:only-of-type {\n",
       "        vertical-align: middle;\n",
       "    }\n",
       "\n",
       "    .dataframe tbody tr th {\n",
       "        vertical-align: top;\n",
       "    }\n",
       "\n",
       "    .dataframe thead th {\n",
       "        text-align: right;\n",
       "    }\n",
       "</style>\n",
       "<table border=\"1\" class=\"dataframe\">\n",
       "  <thead>\n",
       "    <tr style=\"text-align: right;\">\n",
       "      <th></th>\n",
       "      <th>sno</th>\n",
       "      <th>Brand_name</th>\n",
       "      <th>Category</th>\n",
       "      <th>Product_type</th>\n",
       "      <th>Product_name</th>\n",
       "      <th>Price</th>\n",
       "      <th>Product_code</th>\n",
       "    </tr>\n",
       "  </thead>\n",
       "  <tbody>\n",
       "    <tr>\n",
       "      <th>0</th>\n",
       "      <td>0</td>\n",
       "      <td>Chanda Khuba</td>\n",
       "      <td>Men Full Sleeve Solid Hooded Sweatshirt</td>\n",
       "      <td>Men Full Sleeve Solid Hooded Sweatshirt</td>\n",
       "      <td>Men Full Sleeve Solid Hooded Sweatshirt</td>\n",
       "      <td>₹1,490</td>\n",
       "      <td>NaN</td>\n",
       "    </tr>\n",
       "    <tr>\n",
       "      <th>1</th>\n",
       "      <td>1</td>\n",
       "      <td>Chanda Khuba</td>\n",
       "      <td>Men Full Sleeve Solid Hooded Sweatshirt</td>\n",
       "      <td>Men Full Sleeve Solid Hooded Sweatshirt</td>\n",
       "      <td>Men Full Sleeve Solid Hooded Sweatshirt</td>\n",
       "      <td>₹1,490</td>\n",
       "      <td>NaN</td>\n",
       "    </tr>\n",
       "    <tr>\n",
       "      <th>2</th>\n",
       "      <td>2</td>\n",
       "      <td>Swear Clothes</td>\n",
       "      <td>Men Regular Fit Printed Spread Collar Casual S...</td>\n",
       "      <td>Men Regular Fit Printed Spread Collar Casual S...</td>\n",
       "      <td>Men Regular Fit Printed Spread Collar Casual S...</td>\n",
       "      <td>₹447</td>\n",
       "      <td>NaN</td>\n",
       "    </tr>\n",
       "    <tr>\n",
       "      <th>3</th>\n",
       "      <td>3</td>\n",
       "      <td>VALKO FASHION</td>\n",
       "      <td>Unstitched Polycotton Shirt Fabric Printed</td>\n",
       "      <td>Unstitched Polycotton Shirt Fabric Printed</td>\n",
       "      <td>Unstitched Polycotton Shirt Fabric Printed</td>\n",
       "      <td>₹299</td>\n",
       "      <td>NaN</td>\n",
       "    </tr>\n",
       "    <tr>\n",
       "      <th>4</th>\n",
       "      <td>4</td>\n",
       "      <td>PROTOCOL</td>\n",
       "      <td>Men Full Sleeve Solid Hooded Sweatshirt</td>\n",
       "      <td>Men Full Sleeve Solid Hooded Sweatshirt</td>\n",
       "      <td>Men Full Sleeve Solid Hooded Sweatshirt</td>\n",
       "      <td>₹299</td>\n",
       "      <td>NaN</td>\n",
       "    </tr>\n",
       "    <tr>\n",
       "      <th>...</th>\n",
       "      <td>...</td>\n",
       "      <td>...</td>\n",
       "      <td>...</td>\n",
       "      <td>...</td>\n",
       "      <td>...</td>\n",
       "      <td>...</td>\n",
       "      <td>...</td>\n",
       "    </tr>\n",
       "    <tr>\n",
       "      <th>3995</th>\n",
       "      <td>3995</td>\n",
       "      <td>Indi Hemp</td>\n",
       "      <td>Men Slim Fit Solid Cut Away Collar Casual Shirt</td>\n",
       "      <td>Men Slim Fit Solid Cut Away Collar Casual Shirt</td>\n",
       "      <td>Men Slim Fit Solid Cut Away Collar Casual Shirt</td>\n",
       "      <td>₹499</td>\n",
       "      <td>NaN</td>\n",
       "    </tr>\n",
       "    <tr>\n",
       "      <th>3996</th>\n",
       "      <td>3996</td>\n",
       "      <td>Indi Hemp</td>\n",
       "      <td>Men Full Sleeve Solid Hooded Sweatshirt</td>\n",
       "      <td>Men Full Sleeve Solid Hooded Sweatshirt</td>\n",
       "      <td>Men Full Sleeve Solid Hooded Sweatshirt</td>\n",
       "      <td>₹994</td>\n",
       "      <td>NaN</td>\n",
       "    </tr>\n",
       "    <tr>\n",
       "      <th>3997</th>\n",
       "      <td>3997</td>\n",
       "      <td>Indi Hemp</td>\n",
       "      <td>Men Full Sleeve Solid Hooded Sweatshirt</td>\n",
       "      <td>Men Full Sleeve Solid Hooded Sweatshirt</td>\n",
       "      <td>Men Full Sleeve Solid Hooded Sweatshirt</td>\n",
       "      <td>₹499</td>\n",
       "      <td>NaN</td>\n",
       "    </tr>\n",
       "    <tr>\n",
       "      <th>3998</th>\n",
       "      <td>3998</td>\n",
       "      <td>Indi Hemp</td>\n",
       "      <td>Men Regular Fit Printed Spread Collar Casual S...</td>\n",
       "      <td>Men Regular Fit Printed Spread Collar Casual S...</td>\n",
       "      <td>Men Regular Fit Printed Spread Collar Casual S...</td>\n",
       "      <td>₹499</td>\n",
       "      <td>NaN</td>\n",
       "    </tr>\n",
       "    <tr>\n",
       "      <th>3999</th>\n",
       "      <td>3999</td>\n",
       "      <td>Indi Hemp</td>\n",
       "      <td>Unstitched Polycotton Shirt Fabric Printed</td>\n",
       "      <td>Unstitched Polycotton Shirt Fabric Printed</td>\n",
       "      <td>Unstitched Polycotton Shirt Fabric Printed</td>\n",
       "      <td>₹499</td>\n",
       "      <td>NaN</td>\n",
       "    </tr>\n",
       "  </tbody>\n",
       "</table>\n",
       "<p>4000 rows × 7 columns</p>\n",
       "</div>"
      ],
      "text/plain": [
       "       sno     Brand_name                                           Category  \\\n",
       "0        0   Chanda Khuba            Men Full Sleeve Solid Hooded Sweatshirt   \n",
       "1        1   Chanda Khuba            Men Full Sleeve Solid Hooded Sweatshirt   \n",
       "2        2  Swear Clothes  Men Regular Fit Printed Spread Collar Casual S...   \n",
       "3        3  VALKO FASHION         Unstitched Polycotton Shirt Fabric Printed   \n",
       "4        4       PROTOCOL            Men Full Sleeve Solid Hooded Sweatshirt   \n",
       "...    ...            ...                                                ...   \n",
       "3995  3995      Indi Hemp    Men Slim Fit Solid Cut Away Collar Casual Shirt   \n",
       "3996  3996      Indi Hemp            Men Full Sleeve Solid Hooded Sweatshirt   \n",
       "3997  3997      Indi Hemp            Men Full Sleeve Solid Hooded Sweatshirt   \n",
       "3998  3998      Indi Hemp  Men Regular Fit Printed Spread Collar Casual S...   \n",
       "3999  3999      Indi Hemp         Unstitched Polycotton Shirt Fabric Printed   \n",
       "\n",
       "                                           Product_type  \\\n",
       "0               Men Full Sleeve Solid Hooded Sweatshirt   \n",
       "1               Men Full Sleeve Solid Hooded Sweatshirt   \n",
       "2     Men Regular Fit Printed Spread Collar Casual S...   \n",
       "3            Unstitched Polycotton Shirt Fabric Printed   \n",
       "4               Men Full Sleeve Solid Hooded Sweatshirt   \n",
       "...                                                 ...   \n",
       "3995    Men Slim Fit Solid Cut Away Collar Casual Shirt   \n",
       "3996            Men Full Sleeve Solid Hooded Sweatshirt   \n",
       "3997            Men Full Sleeve Solid Hooded Sweatshirt   \n",
       "3998  Men Regular Fit Printed Spread Collar Casual S...   \n",
       "3999         Unstitched Polycotton Shirt Fabric Printed   \n",
       "\n",
       "                                           Product_name   Price  Product_code  \n",
       "0               Men Full Sleeve Solid Hooded Sweatshirt  ₹1,490           NaN  \n",
       "1               Men Full Sleeve Solid Hooded Sweatshirt  ₹1,490           NaN  \n",
       "2     Men Regular Fit Printed Spread Collar Casual S...    ₹447           NaN  \n",
       "3            Unstitched Polycotton Shirt Fabric Printed    ₹299           NaN  \n",
       "4               Men Full Sleeve Solid Hooded Sweatshirt    ₹299           NaN  \n",
       "...                                                 ...     ...           ...  \n",
       "3995    Men Slim Fit Solid Cut Away Collar Casual Shirt    ₹499           NaN  \n",
       "3996            Men Full Sleeve Solid Hooded Sweatshirt    ₹994           NaN  \n",
       "3997            Men Full Sleeve Solid Hooded Sweatshirt    ₹499           NaN  \n",
       "3998  Men Regular Fit Printed Spread Collar Casual S...    ₹499           NaN  \n",
       "3999         Unstitched Polycotton Shirt Fabric Printed    ₹499           NaN  \n",
       "\n",
       "[4000 rows x 7 columns]"
      ]
     },
     "execution_count": 194,
     "metadata": {},
     "output_type": "execute_result"
    }
   ],
   "source": [
    "data1"
   ]
  },
  {
   "cell_type": "code",
   "execution_count": 196,
   "id": "80354a40",
   "metadata": {},
   "outputs": [],
   "source": [
    "data1.to_csv('Table1.csv')"
   ]
  },
  {
   "cell_type": "code",
   "execution_count": null,
   "id": "98592efa",
   "metadata": {},
   "outputs": [],
   "source": []
  },
  {
   "cell_type": "code",
   "execution_count": null,
   "id": "5a29407c",
   "metadata": {},
   "outputs": [],
   "source": []
  },
  {
   "cell_type": "code",
   "execution_count": null,
   "id": "2da90004",
   "metadata": {},
   "outputs": [],
   "source": []
  },
  {
   "cell_type": "code",
   "execution_count": null,
   "id": "f93f6ebd",
   "metadata": {},
   "outputs": [],
   "source": []
  },
  {
   "cell_type": "code",
   "execution_count": null,
   "id": "25249c14",
   "metadata": {},
   "outputs": [],
   "source": []
  },
  {
   "cell_type": "code",
   "execution_count": null,
   "id": "361f1db3",
   "metadata": {},
   "outputs": [],
   "source": []
  },
  {
   "cell_type": "code",
   "execution_count": null,
   "id": "f7cf98ab",
   "metadata": {},
   "outputs": [],
   "source": []
  },
  {
   "cell_type": "code",
   "execution_count": null,
   "id": "f210c9be",
   "metadata": {},
   "outputs": [],
   "source": []
  },
  {
   "cell_type": "code",
   "execution_count": null,
   "id": "faaa1eeb",
   "metadata": {},
   "outputs": [],
   "source": []
  }
 ],
 "metadata": {
  "kernelspec": {
   "display_name": "Python 3 (ipykernel)",
   "language": "python",
   "name": "python3"
  },
  "language_info": {
   "codemirror_mode": {
    "name": "ipython",
    "version": 3
   },
   "file_extension": ".py",
   "mimetype": "text/x-python",
   "name": "python",
   "nbconvert_exporter": "python",
   "pygments_lexer": "ipython3",
   "version": "3.11.5"
  }
 },
 "nbformat": 4,
 "nbformat_minor": 5
}
